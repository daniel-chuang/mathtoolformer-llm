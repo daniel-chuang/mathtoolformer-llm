{
 "cells": [
  {
   "cell_type": "code",
   "execution_count": 1,
   "id": "799aa946",
   "metadata": {},
   "outputs": [
    {
     "name": "stderr",
     "output_type": "stream",
     "text": [
      "c:\\Users\\user\\scoop\\apps\\anaconda3\\current\\envs\\torch-gpu3\\Lib\\site-packages\\tqdm\\auto.py:21: TqdmWarning: IProgress not found. Please update jupyter and ipywidgets. See https://ipywidgets.readthedocs.io/en/stable/user_install.html\n",
      "  from .autonotebook import tqdm as notebook_tqdm\n"
     ]
    }
   ],
   "source": [
    "from transformers import AutoModelForCausalLM, pipeline\n",
    "from trl import SFTConfig, SFTTrainer\n",
    "from constants import MODEL_NAME, HUGGINGFACE_TOKEN, CHECKPOINTS, INITIAL_SAVE_PATH\n",
    "from model.setup import load_model, load_tokenizer\n",
    "import os\n",
    "import re\n",
    "from datasets import load_dataset, concatenate_datasets\n",
    "import copy"
   ]
  },
  {
   "cell_type": "code",
   "execution_count": 11,
   "id": "ded1e5af",
   "metadata": {},
   "outputs": [
    {
     "data": {
      "text/plain": [
       "'c:\\\\Users\\\\user\\\\Desktop\\\\Programming\\\\Classes\\\\CS4782\\\\final_project\\\\code\\\\code'"
      ]
     },
     "execution_count": 11,
     "metadata": {},
     "output_type": "execute_result"
    }
   ],
   "source": [
    "current_directory = os.getcwd()\n",
    "current_directory"
   ]
  },
  {
   "cell_type": "code",
   "execution_count": 2,
   "id": "5ac138c9",
   "metadata": {},
   "outputs": [
    {
     "name": "stdout",
     "output_type": "stream",
     "text": [
      "Transformed dataset:\n",
      "{'completion': '<tool:calculator>6204 + 2521</tool>', 'prompt': 'Question: What is 6204 plus 2521?\\nAnswer:'}\n",
      "{'completion': '<tool:calculator>53441 + 19903</tool>', 'prompt': 'Question: What is 53441 plus 19903?\\nAnswer:'}\n",
      "{'completion': '<tool:calculator>0 - 81</tool>', 'prompt': 'Question: What is 0 minus 81?\\nAnswer:'}\n",
      "{'completion': '<tool:calculator>934 - 935</tool>', 'prompt': 'Question: What is 934 minus 935?\\nAnswer:'}\n",
      "{'completion': '<tool:calculator>42324 + 24298</tool>', 'prompt': 'Question: What is 42324 plus 24298?\\nAnswer:'}\n",
      "{'completion': '<tool:calculator>7116 + 8508</tool>', 'prompt': 'Question: What is 7116 plus 8508?\\nAnswer:'}\n",
      "{'completion': '<tool:calculator>5381 + 7791</tool>', 'prompt': 'Question: What is 5381 plus 7791?\\nAnswer:'}\n",
      "{'completion': '<tool:calculator>99930 - 85074</tool>', 'prompt': 'Question: What is 99930 minus 85074?\\nAnswer:'}\n",
      "{'completion': '<tool:calculator>3 + 4</tool>', 'prompt': 'Question: What is 3 plus 4?\\nAnswer:'}\n",
      "{'completion': '<tool:calculator>7 * 50</tool>', 'prompt': 'Question: What is 7 times 50?\\nAnswer:'}\n",
      "Original dataset:\n",
      "{'context': 'Question: What is 6204 plus 2521?\\nAnswer:', 'completion': ' 8725'}\n",
      "{'context': 'Question: What is 53441 plus 19903?\\nAnswer:', 'completion': ' 73344'}\n",
      "{'context': 'Question: What is 0 minus 81?\\nAnswer:', 'completion': ' -81'}\n",
      "{'context': 'Question: What is 934 minus 935?\\nAnswer:', 'completion': ' -1'}\n",
      "{'context': 'Question: What is 42324 plus 24298?\\nAnswer:', 'completion': ' 66622'}\n",
      "{'context': 'Question: What is 7116 plus 8508?\\nAnswer:', 'completion': ' 15624'}\n",
      "{'context': 'Question: What is 5381 plus 7791?\\nAnswer:', 'completion': ' 13172'}\n",
      "{'context': 'Question: What is 99930 minus 85074?\\nAnswer:', 'completion': ' 14856'}\n",
      "{'context': 'Question: What is 3 plus 4?\\nAnswer:', 'completion': ' 7'}\n",
      "{'context': 'Question: What is 7 times 50?\\nAnswer:', 'completion': ' 350'}\n",
      "\n",
      "Dataset sizes:\n",
      "Total combined dataset: 1000\n",
      "Training set: 900\n",
      "Evaluation set: 100\n",
      "Individual dataset sizes:\n",
      "  arithmetic_1dc: 2000\n",
      "  arithmetic_2da: 2000\n",
      "  arithmetic_2dm: 2000\n",
      "  arithmetic_2ds: 2000\n",
      "  arithmetic_3da: 2000\n",
      "  arithmetic_3ds: 2000\n",
      "  arithmetic_4da: 2000\n",
      "  arithmetic_4ds: 2000\n",
      "  arithmetic_5da: 2000\n",
      "  arithmetic_5ds: 2000\n"
     ]
    }
   ],
   "source": [
    "\n",
    "# All available configs\n",
    "configs = [\n",
    "    'arithmetic_1dc',\n",
    "    'arithmetic_2da',\n",
    "    'arithmetic_2dm',\n",
    "    'arithmetic_2ds',\n",
    "    'arithmetic_3da',\n",
    "    'arithmetic_3ds',\n",
    "    'arithmetic_4da',\n",
    "    'arithmetic_4ds',\n",
    "    'arithmetic_5da',\n",
    "    'arithmetic_5ds'\n",
    "]\n",
    "\n",
    "# Load and combine all datasets\n",
    "all_datasets = []\n",
    "for config in configs:\n",
    "    dataset = load_dataset(\"EleutherAI/arithmetic\", config, split=\"validation\")\n",
    "    all_datasets.append(dataset)\n",
    "\n",
    "# Combine all datasets into one\n",
    "combined_dataset = concatenate_datasets(all_datasets).shuffle(seed=42).select(range(1000))\n",
    "\n",
    "# Now split the combined dataset\n",
    "split_point = int(0.9 * len(combined_dataset))\n",
    "dataset = combined_dataset\n",
    "train_dataset = dataset.select(range(split_point))\n",
    "eval_dataset = dataset.select(range(split_point, len(combined_dataset)))\n",
    "\n",
    "# Convert the dataset for SFTTrainer\n",
    "def combine_text(example):\n",
    "    # Combine context and completion\n",
    "    example[\"text\"] = example[\"context\"] + example[\"completion\"]\n",
    "    return example\n",
    "\n",
    "# Apply the transformation for the pure dataset\n",
    "sft_train_dataset = train_dataset.map(combine_text)\n",
    "sft_train_dataset = sft_train_dataset.remove_columns([\"context\", \"completion\"])\n",
    "\n",
    "# Replace the labels for the toolformer dataset\n",
    "def transform_question(input_text):\n",
    "    \"\"\"\n",
    "    Transform arithmetic questions to use calculator tool format.\n",
    "    \n",
    "    Args:\n",
    "        input_text: The input question text\n",
    "        \n",
    "    Returns:\n",
    "        Transformed question with calculator tool tags\n",
    "    \"\"\"\n",
    "    # First replace word operators\n",
    "    operator_replacements = [\n",
    "        (r'\\bplus\\b', '+'),     # Replace \"plus\" with \"+\"\n",
    "        (r'\\bminus\\b', '-'),    # Replace \"minus\" with \"-\"\n",
    "        (r'\\btimes\\b', '*')     # Replace \"times\" with \"*\"\n",
    "    ]\n",
    "    \n",
    "    result = input_text\n",
    "    for pattern, replacement in operator_replacements:\n",
    "        result = re.sub(pattern, replacement, result)\n",
    "    \n",
    "    # Then handle the overall structure\n",
    "    question_regex = r'Question: What is (.*?)\\?\\nAnswer:'\n",
    "    question_replacement = r'<tool:calculator>\\1</tool>'\n",
    "    \n",
    "    transformed = re.sub(question_regex, question_replacement, result) \n",
    "    transformed = transformed.replace('</tool>?', '</tool>')\n",
    "\n",
    "    return transformed\n",
    "\n",
    "sft_train_tool_dataset = train_dataset.map(\n",
    "    lambda x: {\"prompt\": x[\"context\"], \"completion\": transform_question(x[\"context\"])},\n",
    "    remove_columns=[\"context\", \"completion\"],\n",
    ")\n",
    "\n",
    "print(\"Transformed dataset:\")\n",
    "for i in range(10):\n",
    "    print(sft_train_tool_dataset[i])\n",
    "\n",
    "print(\"Original dataset:\")\n",
    "for i in range(10):\n",
    "    print(train_dataset[i])\n",
    "\n",
    "# Print dataset sizes for verification\n",
    "print(f\"\\nDataset sizes:\")\n",
    "print(f\"Total combined dataset: {len(combined_dataset)}\")\n",
    "print(f\"Training set: {len(train_dataset)}\")\n",
    "print(f\"Evaluation set: {len(eval_dataset)}\")\n",
    "print(f\"Individual dataset sizes:\")\n",
    "for i, config in enumerate(configs):\n",
    "    print(f\"  {config}: {len(all_datasets[i])}\")"
   ]
  },
  {
   "cell_type": "code",
   "execution_count": 13,
   "id": "d7a4e69b",
   "metadata": {},
   "outputs": [
    {
     "name": "stdout",
     "output_type": "stream",
     "text": [
      "Loading model from local path: ./checkpoints\\pretrained\\qwen-initial\n",
      "Added 2 tokens\n"
     ]
    },
    {
     "data": {
      "text/plain": [
       "Embedding(151648, 1024)"
      ]
     },
     "execution_count": 13,
     "metadata": {},
     "output_type": "execute_result"
    }
   ],
   "source": [
    "# model = AutoModelForCausalLM.from_pretrained(\n",
    "#     MODEL_NAME,\n",
    "#     token=HUGGINGFACE_TOKEN,\n",
    "#     device_map=\"auto\"\n",
    "# )\n",
    "\n",
    "model, metadata = load_model(os.path.join(CHECKPOINTS, \"pretrained\", INITIAL_SAVE_PATH))\n",
    "tokenizer = load_tokenizer(os.path.join(CHECKPOINTS, \"pretrained\", INITIAL_SAVE_PATH))\n",
    "\n",
    "# Add tokens\n",
    "special_tokens_dict = {\n",
    "    'additional_special_tokens': ['<tool:calculator>', '</tool>']\n",
    "}\n",
    "num_added_toks = tokenizer.add_special_tokens(special_tokens_dict)\n",
    "print(f\"Added {num_added_toks} tokens\") \n",
    "model.resize_token_embeddings(len(tokenizer))"
   ]
  },
  {
   "cell_type": "code",
   "execution_count": 14,
   "id": "64fd4226",
   "metadata": {},
   "outputs": [
    {
     "name": "stderr",
     "output_type": "stream",
     "text": [
      "\u001b[34m\u001b[1mwandb\u001b[0m: \u001b[33mWARNING\u001b[0m The `run_name` is currently set to the same value as `TrainingArguments.output_dir`. If this was not intended, please specify a different run name by setting the `TrainingArguments.run_name` parameter.\n",
      "\u001b[34m\u001b[1mwandb\u001b[0m: Currently logged in as: \u001b[33mdaniel-chuang\u001b[0m (\u001b[33mdaniel-chuang-cornell\u001b[0m) to \u001b[32mhttps://api.wandb.ai\u001b[0m. Use \u001b[1m`wandb login --relogin`\u001b[0m to force relogin\n"
     ]
    },
    {
     "data": {
      "text/html": [
       "Tracking run with wandb version 0.19.11"
      ],
      "text/plain": [
       "<IPython.core.display.HTML object>"
      ]
     },
     "metadata": {},
     "output_type": "display_data"
    },
    {
     "data": {
      "text/html": [
       "Run data is saved locally in <code>c:\\Users\\user\\Desktop\\Programming\\Classes\\CS4782\\final_project\\code\\code\\wandb\\run-20250512_232827-cfx56rw4</code>"
      ],
      "text/plain": [
       "<IPython.core.display.HTML object>"
      ]
     },
     "metadata": {},
     "output_type": "display_data"
    },
    {
     "data": {
      "text/html": [
       "Syncing run <strong><a href='https://wandb.ai/daniel-chuang-cornell/huggingface/runs/cfx56rw4' target=\"_blank\">/tmp</a></strong> to <a href='https://wandb.ai/daniel-chuang-cornell/huggingface' target=\"_blank\">Weights & Biases</a> (<a href='https://wandb.me/developer-guide' target=\"_blank\">docs</a>)<br>"
      ],
      "text/plain": [
       "<IPython.core.display.HTML object>"
      ]
     },
     "metadata": {},
     "output_type": "display_data"
    },
    {
     "data": {
      "text/html": [
       " View project at <a href='https://wandb.ai/daniel-chuang-cornell/huggingface' target=\"_blank\">https://wandb.ai/daniel-chuang-cornell/huggingface</a>"
      ],
      "text/plain": [
       "<IPython.core.display.HTML object>"
      ]
     },
     "metadata": {},
     "output_type": "display_data"
    },
    {
     "data": {
      "text/html": [
       " View run at <a href='https://wandb.ai/daniel-chuang-cornell/huggingface/runs/cfx56rw4' target=\"_blank\">https://wandb.ai/daniel-chuang-cornell/huggingface/runs/cfx56rw4</a>"
      ],
      "text/plain": [
       "<IPython.core.display.HTML object>"
      ]
     },
     "metadata": {},
     "output_type": "display_data"
    },
    {
     "data": {
      "text/html": [
       "\n",
       "    <div>\n",
       "      \n",
       "      <progress value='339' max='339' style='width:300px; height:20px; vertical-align: middle;'></progress>\n",
       "      [339/339 01:24, Epoch 3/3]\n",
       "    </div>\n",
       "    <table border=\"1\" class=\"dataframe\">\n",
       "  <thead>\n",
       " <tr style=\"text-align: left;\">\n",
       "      <th>Step</th>\n",
       "      <th>Training Loss</th>\n",
       "    </tr>\n",
       "  </thead>\n",
       "  <tbody>\n",
       "  </tbody>\n",
       "</table><p>"
      ],
      "text/plain": [
       "<IPython.core.display.HTML object>"
      ]
     },
     "metadata": {},
     "output_type": "display_data"
    }
   ],
   "source": [
    "# PURE TRAINING\n",
    "training_args = SFTConfig(output_dir=\"/tmp\")\n",
    "\n",
    "pure_trainer = SFTTrainer(\n",
    "    model,\n",
    "    train_dataset=sft_train_tool_dataset,\n",
    "    args=training_args,\n",
    ")\n",
    "\n",
    "pure_trainer.train()\n",
    "\n",
    "model.save_pretrained(os.path.join(CHECKPOINTS, \"pure\"))"
   ]
  },
  {
   "cell_type": "code",
   "execution_count": null,
   "id": "2bed36d5",
   "metadata": {},
   "outputs": [],
   "source": [
    "# TOOLFORMER TRAINING\n",
    "training_args = SFTConfig(output_dir=\"/tmp\", completion_only_loss = True)\n",
    "\n",
    "# Train the toolformer model\n",
    "tool_trainer = SFTTrainer(\n",
    "    model,\n",
    "    train_dataset=sft_train_tool_dataset,\n",
    "    # eval_dataset=sft_train_tool_dataset.select(range(100)),  # Small eval set\n",
    "    args=training_args\n",
    ")\n",
    "\n",
    "tool_trainer.train()\n",
    "\n",
    "model.save_pretrained(os.path.join(CHECKPOINTS, \"tool\"))"
   ]
  },
  {
   "cell_type": "code",
   "execution_count": null,
   "id": "5e1e1472",
   "metadata": {},
   "outputs": [],
   "source": [
    "def evaluate_arithmetic(examples, pipe, use_tool, num_examples=100):\n",
    "    correct = 0\n",
    "    total = 0\n",
    "    \n",
    "    for i, example in enumerate(examples):\n",
    "        if i >= num_examples:\n",
    "            break\n",
    "            \n",
    "        # Extract the context (question)\n",
    "        if use_tool:\n",
    "            # Add a system message for the calculator tool\n",
    "            # context = \"Use the calculator tool to solve arithmetic. For example, given the problem 'What is 5+4', output <tool:calculator>5+4</tool>.\\n\" + example[\"context\"]\n",
    "            context = example[\"context\"]\n",
    "        else:\n",
    "            context = example[\"context\"]\n",
    "        expected_answer = example[\"completion\"].strip()\n",
    "        \n",
    "        # Generate answer\n",
    "        generated = pipe(context, max_new_tokens=100)[0][\"generated_text\"]\n",
    "        \n",
    "        # Extract only the new text (the answer)\n",
    "        generated_answer = generated[len(context):].strip()\n",
    "        \n",
    "        # Clean the answer (remove ex`tra text after the number)\n",
    "        generated_answer = re.findall(r'-?\\d+', generated_answer)\n",
    "        if generated_answer:\n",
    "            generated_answer = generated_answer[0]\n",
    "        else:\n",
    "            print(\"--\")\n",
    "            print(f\"Failed to extract answer for example {i}: \\n{generated}\")\n",
    "            print(\"--\")\n",
    "            generated_answer = \"N/A\"\n",
    "        \n",
    "        # Compare with expected answer\n",
    "        if generated_answer == expected_answer.strip():\n",
    "            correct += 1\n",
    "        \n",
    "        total += 1\n",
    "        \n",
    "        if i < 5:  # Print first 5 examples\n",
    "            print(f\"Question: {context}\")\n",
    "            print(f\"Expected: {expected_answer}\")\n",
    "            print(f\"Generated: {generated_answer}\")\n",
    "            print(f\"Correct: {generated_answer == expected_answer.strip()}\")\n",
    "            print(\"-\" * 50)\n",
    "    \n",
    "    accuracy = correct / total\n",
    "    print(f\"\\nAccuracy: {accuracy:.2%} ({correct}/{total})\")\n",
    "    return accuracy"
   ]
  },
  {
   "cell_type": "code",
   "execution_count": 15,
   "id": "cd12cc22",
   "metadata": {},
   "outputs": [
    {
     "name": "stderr",
     "output_type": "stream",
     "text": [
      "Device set to use cuda:0\n",
      "c:\\Users\\user\\scoop\\apps\\anaconda3\\current\\envs\\torch-gpu3\\Lib\\site-packages\\transformers\\generation\\configuration_utils.py:631: UserWarning: `do_sample` is set to `False`. However, `temperature` is set to `0.0` -- this flag is only used in sample-based generation modes. You should set `do_sample=True` or unset `temperature`.\n",
      "  warnings.warn(\n"
     ]
    },
    {
     "name": "stdout",
     "output_type": "stream",
     "text": [
      "Question: Question: What is 2955 minus 5769?\n",
      "Answer:\n",
      "Expected: -2814\n",
      "Generated: 2955\n",
      "Correct: False\n",
      "--------------------------------------------------\n",
      "Question: Question: What is 779 plus 685?\n",
      "Answer:\n",
      "Expected: 1464\n",
      "Generated: 779\n",
      "Correct: False\n",
      "--------------------------------------------------\n",
      "Question: Question: What is 82183 plus 87570?\n",
      "Answer:\n",
      "Expected: 169753\n",
      "Generated: 82183\n",
      "Correct: False\n",
      "--------------------------------------------------\n",
      "Question: Question: What is 535 minus 517?\n",
      "Answer:\n",
      "Expected: 18\n",
      "Generated: 535\n",
      "Correct: False\n",
      "--------------------------------------------------\n",
      "Question: Question: What is 81 plus 94?\n",
      "Answer:\n",
      "Expected: 175\n",
      "Generated: 81\n",
      "Correct: False\n",
      "--------------------------------------------------\n",
      "\n",
      "Accuracy: 2.00% (2/100)\n",
      "Pure Model Accuracy: 2.00%\n"
     ]
    }
   ],
   "source": [
    "# Create a text generation pipeline\n",
    "# model, _ = load_model(os.path.join(CHECKPOINTS, \"pretrained\", INITIAL_SAVE_PATH))\n",
    "# pretrained_pipe = pipeline(\"text-generation\", \n",
    "#                 model=model, \n",
    "#                 tokenizer=tokenizer,\n",
    "#                 max_new_tokens=10,\n",
    "#                 temperature=0.0,\n",
    "#                 pad_token_id=tokenizer.eos_token_id)\n",
    "\n",
    "# model, _ = load_model(os.path.join(CHECKPOINTS, \"pure\"))\n",
    "pure_pipe = pipeline(\"text-generation\", \n",
    "                model=model, \n",
    "                tokenizer=tokenizer,\n",
    "                max_new_tokens=10,\n",
    "                temperature=0.0,\n",
    "                pad_token_id=tokenizer.eos_token_id)\n",
    "\n",
    "# model, _ = load_model(os.path.join(CHECKPOINTS, \"tool\"))\n",
    "# tool_pipe = pipeline(\"text-generation\", \n",
    "#                 model=model, \n",
    "#                 tokenizer=tokenizer,\n",
    "#                 max_new_tokens=40,\n",
    "#                 temperature=0.0,\n",
    "#                 pad_token_id=tokenizer.eos_token_id)\n",
    "\n",
    "# Run evaluation\n",
    "# accuracy = evaluate_arithmetic(eval_dataset, pretrained_pipe, use_tool = False, num_examples=100)\n",
    "# print(f\"Pretrained Model Accuracy: {accuracy:.2%}\")\n",
    "\n",
    "accuracy = evaluate_arithmetic(eval_dataset, pure_pipe, use_tool = False, num_examples=100)\n",
    "print(f\"Pure Model Accuracy: {accuracy:.2%}\")\n",
    "\n",
    "# accuracy = evaluate_arithmetic(eval_dataset, tool_pipe, use_tool = True, num_examples=100)\n",
    "# print(f\"Tool Model Accuracy: {accuracy:.2%}\")"
   ]
  },
  {
   "cell_type": "code",
   "execution_count": null,
   "id": "6e4e5c8e",
   "metadata": {},
   "outputs": [],
   "source": []
  }
 ],
 "metadata": {
  "kernelspec": {
   "display_name": "torch-gpu3",
   "language": "python",
   "name": "python3"
  },
  "language_info": {
   "codemirror_mode": {
    "name": "ipython",
    "version": 3
   },
   "file_extension": ".py",
   "mimetype": "text/x-python",
   "name": "python",
   "nbconvert_exporter": "python",
   "pygments_lexer": "ipython3",
   "version": "3.12.9"
  }
 },
 "nbformat": 4,
 "nbformat_minor": 5
}
