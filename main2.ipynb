{
 "cells": [
  {
   "cell_type": "code",
   "execution_count": 1,
   "id": "799aa946",
   "metadata": {},
   "outputs": [
    {
     "name": "stderr",
     "output_type": "stream",
     "text": [
      "c:\\Users\\user\\scoop\\apps\\anaconda3\\current\\envs\\torch-gpu3\\Lib\\site-packages\\tqdm\\auto.py:21: TqdmWarning: IProgress not found. Please update jupyter and ipywidgets. See https://ipywidgets.readthedocs.io/en/stable/user_install.html\n",
      "  from .autonotebook import tqdm as notebook_tqdm\n"
     ]
    }
   ],
   "source": [
    "from transformers import AutoModelForCausalLM, pipeline\n",
    "from datasets import load_dataset\n",
    "from trl import SFTConfig, SFTTrainer\n",
    "from constants import MODEL_NAME, HUGGINGFACE_TOKEN, CHECKPOINTS, INITIAL_SAVE_PATH\n",
    "from model.setup import load_model, load_tokenizer\n",
    "import os\n",
    "import re\n",
    "import copy"
   ]
  },
  {
   "cell_type": "code",
   "execution_count": 2,
   "id": "5ac138c9",
   "metadata": {},
   "outputs": [
    {
     "name": "stdout",
     "output_type": "stream",
     "text": [
      "Transformed dataset:\n",
      "{'completion': '<tool:calculator>(6 - 6) + 3</tool>', 'prompt': 'Question: What is (6 - 6) + 3?\\nAnswer:'}\n",
      "{'completion': '<tool:calculator>(5 * 6) + 5</tool>', 'prompt': 'Question: What is (5 * 6) + 5?\\nAnswer:'}\n",
      "{'completion': '<tool:calculator>(2 - 2) * 3</tool>', 'prompt': 'Question: What is (2 - 2) * 3?\\nAnswer:'}\n",
      "{'completion': '<tool:calculator>(4 - 2) + 7</tool>', 'prompt': 'Question: What is (4 - 2) + 7?\\nAnswer:'}\n",
      "{'completion': '<tool:calculator>(7 * 5) * 2</tool>', 'prompt': 'Question: What is (7 * 5) * 2?\\nAnswer:'}\n"
     ]
    }
   ],
   "source": [
    "dataset = load_dataset(\"EleutherAI/arithmetic\", \"arithmetic_1dc\", split=\"validation\")\n",
    "split_point = int(0.9 * len(dataset))\n",
    "dataset = dataset.shuffle(seed=42)\n",
    "train_dataset = dataset.select(range(split_point))\n",
    "eval_dataset = dataset.select(range(split_point, len(dataset)))\n",
    "\n",
    "# Convert the dataset for SFTTrainer\n",
    "def combine_text(example):\n",
    "    # Combine context and completion\n",
    "    example[\"text\"] = example[\"context\"] + example[\"completion\"]\n",
    "    return example\n",
    "\n",
    "# Apply the transformation for the pure dataset\n",
    "sft_train_dataset = train_dataset.map(combine_text)\n",
    "sft_train_dataset = sft_train_dataset.remove_columns([\"context\", \"completion\"])\n",
    "\n",
    "# Replace the labels for the toolformer dataset\n",
    "def transform_question(input_text):\n",
    "    \"\"\"\n",
    "    Transform arithmetic questions to use calculator tool format.\n",
    "    \n",
    "    Args:\n",
    "        input_text: The input question text\n",
    "        \n",
    "    Returns:\n",
    "        Transformed question with calculator tool tags\n",
    "    \"\"\"\n",
    "    # First replace word operators\n",
    "    operator_replacements = [\n",
    "        (r'\\bplus\\b', '+'),     # Replace \"plus\" with \"+\"\n",
    "        (r'\\bminus\\b', '-'),    # Replace \"minus\" with \"-\"\n",
    "        (r'\\btimes\\b', '*')     # Replace \"times\" with \"*\"\n",
    "    ]\n",
    "    \n",
    "    result = input_text\n",
    "    for pattern, replacement in operator_replacements:\n",
    "        result = re.sub(pattern, replacement, result)\n",
    "    \n",
    "    # Then handle the overall structure\n",
    "    question_regex = r'Question: What is (.*?)\\?\\nAnswer:'\n",
    "    question_replacement = r'<tool:calculator>\\1</tool>'\n",
    "    \n",
    "    transformed = re.sub(question_regex, question_replacement, result) \n",
    "    transformed = transformed.replace('</tool>?', '</tool>')\n",
    "\n",
    "    return transformed\n",
    "\n",
    "sft_train_tool_dataset = train_dataset.map(\n",
    "    lambda x: {\"prompt\": x[\"context\"], \"completion\": transform_question(x[\"context\"])},\n",
    "    remove_columns=[\"context\", \"completion\"],\n",
    ")\n",
    "\n",
    "print(\"Transformed dataset:\")\n",
    "for i in range(5):\n",
    "    print(sft_train_tool_dataset[i])\n"
   ]
  },
  {
   "cell_type": "code",
   "execution_count": 3,
   "id": "d7a4e69b",
   "metadata": {},
   "outputs": [
    {
     "name": "stderr",
     "output_type": "stream",
     "text": [
      "Sliding Window Attention is enabled but not implemented for `sdpa`; unexpected results may be encountered.\n"
     ]
    },
    {
     "name": "stdout",
     "output_type": "stream",
     "text": [
      "Loading model from local path: ./checkpoints\\pretrained\\qwen-initial\n"
     ]
    }
   ],
   "source": [
    "# model = AutoModelForCausalLM.from_pretrained(\n",
    "#     MODEL_NAME,\n",
    "#     token=HUGGINGFACE_TOKEN,\n",
    "#     device_map=\"auto\"\n",
    "# )\n",
    "\n",
    "model, metadata = load_model(os.path.join(CHECKPOINTS, \"pretrained\", INITIAL_SAVE_PATH))\n",
    "\n",
    "tool_model = copy.deepcopy(model)\n",
    "pure_model = copy.deepcopy(model)\n",
    "\n",
    "tokenizer = load_tokenizer(os.path.join(CHECKPOINTS, \"pretrained\", INITIAL_SAVE_PATH))"
   ]
  },
  {
   "cell_type": "code",
   "execution_count": null,
   "id": "64fd4226",
   "metadata": {},
   "outputs": [],
   "source": [
    "# PURE TRAINING\n",
    "training_args = SFTConfig(output_dir=\"/tmp\")\n",
    "\n",
    "pure_trainer = SFTTrainer(\n",
    "    pure_model,\n",
    "    train_dataset=sft_train_tool_dataset,\n",
    "    args=training_args,\n",
    ")\n",
    "\n",
    "pure_trainer.train()\n",
    "\n",
    "pure_model.save_pretrained(os.path.join(CHECKPOINTS, \"pure\"))"
   ]
  },
  {
   "cell_type": "code",
   "execution_count": null,
   "id": "2bed36d5",
   "metadata": {},
   "outputs": [
    {
     "name": "stderr",
     "output_type": "stream",
     "text": [
      "\u001b[34m\u001b[1mwandb\u001b[0m: \u001b[33mWARNING\u001b[0m The `run_name` is currently set to the same value as `TrainingArguments.output_dir`. If this was not intended, please specify a different run name by setting the `TrainingArguments.run_name` parameter.\n",
      "\u001b[34m\u001b[1mwandb\u001b[0m: Currently logged in as: \u001b[33mdaniel-chuang\u001b[0m (\u001b[33mdaniel-chuang-cornell\u001b[0m) to \u001b[32mhttps://api.wandb.ai\u001b[0m. Use \u001b[1m`wandb login --relogin`\u001b[0m to force relogin\n"
     ]
    },
    {
     "data": {
      "text/html": [
       "Tracking run with wandb version 0.19.11"
      ],
      "text/plain": [
       "<IPython.core.display.HTML object>"
      ]
     },
     "metadata": {},
     "output_type": "display_data"
    },
    {
     "data": {
      "text/html": [
       "Run data is saved locally in <code>c:\\Users\\user\\Desktop\\Programming\\Classes\\CS4782\\final_project\\code\\wandb\\run-20250512_222846-41jhl8di</code>"
      ],
      "text/plain": [
       "<IPython.core.display.HTML object>"
      ]
     },
     "metadata": {},
     "output_type": "display_data"
    },
    {
     "data": {
      "text/html": [
       "Syncing run <strong><a href='https://wandb.ai/daniel-chuang-cornell/huggingface/runs/41jhl8di' target=\"_blank\">/tmp</a></strong> to <a href='https://wandb.ai/daniel-chuang-cornell/huggingface' target=\"_blank\">Weights & Biases</a> (<a href='https://wandb.me/developer-guide' target=\"_blank\">docs</a>)<br>"
      ],
      "text/plain": [
       "<IPython.core.display.HTML object>"
      ]
     },
     "metadata": {},
     "output_type": "display_data"
    },
    {
     "data": {
      "text/html": [
       " View project at <a href='https://wandb.ai/daniel-chuang-cornell/huggingface' target=\"_blank\">https://wandb.ai/daniel-chuang-cornell/huggingface</a>"
      ],
      "text/plain": [
       "<IPython.core.display.HTML object>"
      ]
     },
     "metadata": {},
     "output_type": "display_data"
    },
    {
     "data": {
      "text/html": [
       " View run at <a href='https://wandb.ai/daniel-chuang-cornell/huggingface/runs/41jhl8di' target=\"_blank\">https://wandb.ai/daniel-chuang-cornell/huggingface/runs/41jhl8di</a>"
      ],
      "text/plain": [
       "<IPython.core.display.HTML object>"
      ]
     },
     "metadata": {},
     "output_type": "display_data"
    },
    {
     "data": {
      "text/html": [
       "\n",
       "    <div>\n",
       "      \n",
       "      <progress value='676' max='675' style='width:300px; height:20px; vertical-align: middle;'></progress>\n",
       "      [675/675 03:04, Epoch 3/3]\n",
       "    </div>\n",
       "    <table border=\"1\" class=\"dataframe\">\n",
       "  <thead>\n",
       " <tr style=\"text-align: left;\">\n",
       "      <th>Step</th>\n",
       "      <th>Training Loss</th>\n",
       "    </tr>\n",
       "  </thead>\n",
       "  <tbody>\n",
       "    <tr>\n",
       "      <td>500</td>\n",
       "      <td>0.010500</td>\n",
       "    </tr>\n",
       "  </tbody>\n",
       "</table><p>"
      ],
      "text/plain": [
       "<IPython.core.display.HTML object>"
      ]
     },
     "metadata": {},
     "output_type": "display_data"
    }
   ],
   "source": [
    "# TOOLFORMER TRAINING\n",
    "training_args = SFTConfig(output_dir=\"/tmp\", completion_only_loss = True)\n",
    "\n",
    "# Train the toolformer model\n",
    "tool_trainer = SFTTrainer(\n",
    "    tool_model,\n",
    "    train_dataset=sft_train_tool_dataset,\n",
    "    eval_dataset=sft_train_tool_dataset.select(range(100)),  # Small eval set\n",
    "    args=training_args\n",
    ")\n",
    "\n",
    "tool_trainer.train()\n",
    "\n",
    "tool_model.save_pretrained(os.path.join(CHECKPOINTS, \"tool\"))"
   ]
  },
  {
   "cell_type": "code",
   "execution_count": null,
   "id": "5e1e1472",
   "metadata": {},
   "outputs": [],
   "source": [
    "def evaluate_arithmetic(examples, pipe, use_tool, num_examples=100):\n",
    "    correct = 0\n",
    "    total = 0\n",
    "    \n",
    "    for i, example in enumerate(examples):\n",
    "        if i >= num_examples:\n",
    "            break\n",
    "            \n",
    "        # Extract the context (question)\n",
    "        if use_tool:\n",
    "            # Add a system message for the calculator tool\n",
    "            # context = \"Use the calculator tool to solve arithmetic. For example, given the problem 'What is 5+4', output <tool:calculator>5+4</tool>.\\n\" + example[\"context\"]\n",
    "            context = example[\"context\"]\n",
    "        else:\n",
    "            context = example[\"context\"]\n",
    "        expected_answer = example[\"completion\"].strip()\n",
    "        \n",
    "        # Generate answer\n",
    "        generated = pipe(context, max_new_tokens=40)[0][\"generated_text\"]\n",
    "        \n",
    "        # Extract only the new text (the answer)\n",
    "        generated_answer = generated[len(context):].strip()\n",
    "        \n",
    "        # Clean the answer (remove extra text after the number)\n",
    "        generated_answer = re.findall(r'-?\\d+', generated_answer)\n",
    "        if generated_answer:\n",
    "            generated_answer = generated_answer[0]\n",
    "        else:\n",
    "            print(\"--\")\n",
    "            print(f\"Failed to extract answer for example {i}: \\n{generated}\")\n",
    "            print(\"--\")\n",
    "            generated_answer = \"N/A\"\n",
    "        \n",
    "        # Compare with expected answer\n",
    "        if generated_answer == expected_answer.strip():\n",
    "            correct += 1\n",
    "        \n",
    "        total += 1\n",
    "        \n",
    "        if i < 5:  # Print first 5 examples\n",
    "            print(f\"Question: {context}\")\n",
    "            print(f\"Expected: {expected_answer}\")\n",
    "            print(f\"Generated: {generated_answer}\")\n",
    "            print(f\"Correct: {generated_answer == expected_answer.strip()}\")\n",
    "            print(\"-\" * 50)\n",
    "    \n",
    "    accuracy = correct / total\n",
    "    print(f\"\\nAccuracy: {accuracy:.2%} ({correct}/{total})\")\n",
    "    return accuracy"
   ]
  },
  {
   "cell_type": "code",
   "execution_count": null,
   "id": "10804a88",
   "metadata": {},
   "outputs": [],
   "source": [
    "pure_model, _ = load_model(os.path.join(CHECKPOINTS, \"pure\"))\n",
    "tool_model, _ = load_model(os.path.join(CHECKPOINTS, \"tool\"))"
   ]
  },
  {
   "cell_type": "code",
   "execution_count": null,
   "id": "cd12cc22",
   "metadata": {},
   "outputs": [],
   "source": [
    "# Create a text generation pipeline\n",
    "pretrained_pipe = pipeline(\"text-generation\", \n",
    "                model=model, \n",
    "                tokenizer=tokenizer,\n",
    "                max_new_tokens=10,\n",
    "                temperature=0.0,\n",
    "                pad_token_id=tokenizer.eos_token_id)\n",
    "\n",
    "pure_pipe = pipeline(\"text-generation\", \n",
    "                model=pure_model, \n",
    "                tokenizer=tokenizer,\n",
    "                max_new_tokens=10,\n",
    "                temperature=0.0,\n",
    "                pad_token_id=tokenizer.eos_token_id)\n",
    "\n",
    "tool_pipe = pipeline(\"text-generation\", \n",
    "                model=tool_model, \n",
    "                tokenizer=tokenizer,\n",
    "                max_new_tokens=10,\n",
    "                temperature=0.0,\n",
    "                pad_token_id=tokenizer.eos_token_id)\n",
    "\n",
    "# Run evaluation\n",
    "# accuracy = evaluate_arithmetic(eval_dataset, pretrained_pipe, use_tool = False, num_examples=100)\n",
    "# print(f\"Pretrained Model Accuracy: {accuracy:.2%}\")\n",
    "\n",
    "# accuracy = evaluate_arithmetic(eval_dataset, pure_pipe, use_tool = False, num_examples=100)\n",
    "# print(f\"Pure Model Accuracy: {accuracy:.2%}\")\n",
    "\n",
    "accuracy = evaluate_arithmetic(eval_dataset, tool_pipe, use_tool = True, num_examples=100)\n",
    "print(f\"Tool Model Accuracy: {accuracy:.2%}\")"
   ]
  },
  {
   "cell_type": "code",
   "execution_count": null,
   "id": "6e4e5c8e",
   "metadata": {},
   "outputs": [],
   "source": []
  }
 ],
 "metadata": {
  "kernelspec": {
   "display_name": "torch-gpu3",
   "language": "python",
   "name": "python3"
  },
  "language_info": {
   "codemirror_mode": {
    "name": "ipython",
    "version": 3
   },
   "file_extension": ".py",
   "mimetype": "text/x-python",
   "name": "python",
   "nbconvert_exporter": "python",
   "pygments_lexer": "ipython3",
   "version": "3.12.9"
  }
 },
 "nbformat": 4,
 "nbformat_minor": 5
}
